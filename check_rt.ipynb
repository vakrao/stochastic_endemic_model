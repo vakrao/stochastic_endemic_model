{
 "cells": [
  {
   "cell_type": "code",
   "execution_count": null,
   "id": "308f9db4",
   "metadata": {},
   "outputs": [],
   "source": [
    "%pip install pandas\n",
    "%pip install numpy\n",
    "%pip install seaborn"
   ]
  },
  {
   "cell_type": "code",
   "execution_count": 2,
   "id": "2435c8c3-e1ff-4360-a822-a45f2a986e9b",
   "metadata": {},
   "outputs": [
    {
     "ename": "FileNotFoundError",
     "evalue": "[Errno 2] File b'../data/age_run_1_00.csv' does not exist: b'../data/age_run_1_00.csv'",
     "output_type": "error",
     "traceback": [
      "\u001b[0;31m---------------------------------------------------------------------------\u001b[0m",
      "\u001b[0;31mFileNotFoundError\u001b[0m                         Traceback (most recent call last)",
      "Cell \u001b[0;32mIn [2], line 6\u001b[0m\n\u001b[1;32m      3\u001b[0m \u001b[38;5;28;01mimport\u001b[39;00m \u001b[38;5;21;01mnumpy\u001b[39;00m \u001b[38;5;28;01mas\u001b[39;00m \u001b[38;5;21;01mnp\u001b[39;00m\n\u001b[1;32m      4\u001b[0m \u001b[38;5;28;01mimport\u001b[39;00m \u001b[38;5;21;01mmatplotlib\u001b[39;00m\u001b[38;5;21;01m.\u001b[39;00m\u001b[38;5;21;01mpyplot\u001b[39;00m \u001b[38;5;28;01mas\u001b[39;00m \u001b[38;5;21;01mplt\u001b[39;00m\n\u001b[0;32m----> 6\u001b[0m graph_dat \u001b[38;5;241m=\u001b[39m \u001b[43mpd\u001b[49m\u001b[38;5;241;43m.\u001b[39;49m\u001b[43mread_csv\u001b[49m\u001b[43m(\u001b[49m\u001b[38;5;124;43m\"\u001b[39;49m\u001b[38;5;124;43m../data/age_run_1_00.csv\u001b[39;49m\u001b[38;5;124;43m\"\u001b[39;49m\u001b[43m)\u001b[49m\n\u001b[1;32m      7\u001b[0m graph_dat \u001b[38;5;241m=\u001b[39m graph_dat\u001b[38;5;241m.\u001b[39mfilter(items\u001b[38;5;241m=\u001b[39m[\u001b[38;5;124m\"\u001b[39m\u001b[38;5;124mt\u001b[39m\u001b[38;5;124m\"\u001b[39m,\u001b[38;5;124m\"\u001b[39m\u001b[38;5;124mage\u001b[39m\u001b[38;5;124m\"\u001b[39m,\u001b[38;5;124m\"\u001b[39m\u001b[38;5;124mvalue\u001b[39m\u001b[38;5;124m\"\u001b[39m,\u001b[38;5;124m\"\u001b[39m\u001b[38;5;124mvartype\u001b[39m\u001b[38;5;124m\"\u001b[39m])\n\u001b[1;32m      8\u001b[0m D_dat \u001b[38;5;241m=\u001b[39m graph_dat[(graph_dat[\u001b[38;5;124m\"\u001b[39m\u001b[38;5;124mvartype\u001b[39m\u001b[38;5;124m\"\u001b[39m] \u001b[38;5;241m==\u001b[39m \u001b[38;5;124m\"\u001b[39m\u001b[38;5;124mD\u001b[39m\u001b[38;5;124m\"\u001b[39m)] \n",
      "File \u001b[0;32m/usr/lib/python3/dist-packages/pandas/io/parsers.py:685\u001b[0m, in \u001b[0;36m_make_parser_function.<locals>.parser_f\u001b[0;34m(filepath_or_buffer, sep, delimiter, header, names, index_col, usecols, squeeze, prefix, mangle_dupe_cols, dtype, engine, converters, true_values, false_values, skipinitialspace, skiprows, skipfooter, nrows, na_values, keep_default_na, na_filter, verbose, skip_blank_lines, parse_dates, infer_datetime_format, keep_date_col, date_parser, dayfirst, cache_dates, iterator, chunksize, compression, thousands, decimal, lineterminator, quotechar, quoting, doublequote, escapechar, comment, encoding, dialect, error_bad_lines, warn_bad_lines, delim_whitespace, low_memory, memory_map, float_precision)\u001b[0m\n\u001b[1;32m    632\u001b[0m     engine_specified \u001b[38;5;241m=\u001b[39m \u001b[38;5;28;01mFalse\u001b[39;00m\n\u001b[1;32m    634\u001b[0m kwds\u001b[38;5;241m.\u001b[39mupdate(\n\u001b[1;32m    635\u001b[0m     delimiter\u001b[38;5;241m=\u001b[39mdelimiter,\n\u001b[1;32m    636\u001b[0m     engine\u001b[38;5;241m=\u001b[39mengine,\n\u001b[0;32m   (...)\u001b[0m\n\u001b[1;32m    682\u001b[0m     skip_blank_lines\u001b[38;5;241m=\u001b[39mskip_blank_lines,\n\u001b[1;32m    683\u001b[0m )\n\u001b[0;32m--> 685\u001b[0m \u001b[38;5;28;01mreturn\u001b[39;00m \u001b[43m_read\u001b[49m\u001b[43m(\u001b[49m\u001b[43mfilepath_or_buffer\u001b[49m\u001b[43m,\u001b[49m\u001b[43m \u001b[49m\u001b[43mkwds\u001b[49m\u001b[43m)\u001b[49m\n",
      "File \u001b[0;32m/usr/lib/python3/dist-packages/pandas/io/parsers.py:457\u001b[0m, in \u001b[0;36m_read\u001b[0;34m(filepath_or_buffer, kwds)\u001b[0m\n\u001b[1;32m    454\u001b[0m _validate_names(kwds\u001b[38;5;241m.\u001b[39mget(\u001b[38;5;124m\"\u001b[39m\u001b[38;5;124mnames\u001b[39m\u001b[38;5;124m\"\u001b[39m, \u001b[38;5;28;01mNone\u001b[39;00m))\n\u001b[1;32m    456\u001b[0m \u001b[38;5;66;03m# Create the parser.\u001b[39;00m\n\u001b[0;32m--> 457\u001b[0m parser \u001b[38;5;241m=\u001b[39m \u001b[43mTextFileReader\u001b[49m\u001b[43m(\u001b[49m\u001b[43mfp_or_buf\u001b[49m\u001b[43m,\u001b[49m\u001b[43m \u001b[49m\u001b[38;5;241;43m*\u001b[39;49m\u001b[38;5;241;43m*\u001b[39;49m\u001b[43mkwds\u001b[49m\u001b[43m)\u001b[49m\n\u001b[1;32m    459\u001b[0m \u001b[38;5;28;01mif\u001b[39;00m chunksize \u001b[38;5;129;01mor\u001b[39;00m iterator:\n\u001b[1;32m    460\u001b[0m     \u001b[38;5;28;01mreturn\u001b[39;00m parser\n",
      "File \u001b[0;32m/usr/lib/python3/dist-packages/pandas/io/parsers.py:895\u001b[0m, in \u001b[0;36mTextFileReader.__init__\u001b[0;34m(self, f, engine, **kwds)\u001b[0m\n\u001b[1;32m    892\u001b[0m \u001b[38;5;28;01mif\u001b[39;00m \u001b[38;5;124m\"\u001b[39m\u001b[38;5;124mhas_index_names\u001b[39m\u001b[38;5;124m\"\u001b[39m \u001b[38;5;129;01min\u001b[39;00m kwds:\n\u001b[1;32m    893\u001b[0m     \u001b[38;5;28mself\u001b[39m\u001b[38;5;241m.\u001b[39moptions[\u001b[38;5;124m\"\u001b[39m\u001b[38;5;124mhas_index_names\u001b[39m\u001b[38;5;124m\"\u001b[39m] \u001b[38;5;241m=\u001b[39m kwds[\u001b[38;5;124m\"\u001b[39m\u001b[38;5;124mhas_index_names\u001b[39m\u001b[38;5;124m\"\u001b[39m]\n\u001b[0;32m--> 895\u001b[0m \u001b[38;5;28;43mself\u001b[39;49m\u001b[38;5;241;43m.\u001b[39;49m\u001b[43m_make_engine\u001b[49m\u001b[43m(\u001b[49m\u001b[38;5;28;43mself\u001b[39;49m\u001b[38;5;241;43m.\u001b[39;49m\u001b[43mengine\u001b[49m\u001b[43m)\u001b[49m\n",
      "File \u001b[0;32m/usr/lib/python3/dist-packages/pandas/io/parsers.py:1135\u001b[0m, in \u001b[0;36mTextFileReader._make_engine\u001b[0;34m(self, engine)\u001b[0m\n\u001b[1;32m   1133\u001b[0m \u001b[38;5;28;01mdef\u001b[39;00m \u001b[38;5;21m_make_engine\u001b[39m(\u001b[38;5;28mself\u001b[39m, engine\u001b[38;5;241m=\u001b[39m\u001b[38;5;124m\"\u001b[39m\u001b[38;5;124mc\u001b[39m\u001b[38;5;124m\"\u001b[39m):\n\u001b[1;32m   1134\u001b[0m     \u001b[38;5;28;01mif\u001b[39;00m engine \u001b[38;5;241m==\u001b[39m \u001b[38;5;124m\"\u001b[39m\u001b[38;5;124mc\u001b[39m\u001b[38;5;124m\"\u001b[39m:\n\u001b[0;32m-> 1135\u001b[0m         \u001b[38;5;28mself\u001b[39m\u001b[38;5;241m.\u001b[39m_engine \u001b[38;5;241m=\u001b[39m \u001b[43mCParserWrapper\u001b[49m\u001b[43m(\u001b[49m\u001b[38;5;28;43mself\u001b[39;49m\u001b[38;5;241;43m.\u001b[39;49m\u001b[43mf\u001b[49m\u001b[43m,\u001b[49m\u001b[43m \u001b[49m\u001b[38;5;241;43m*\u001b[39;49m\u001b[38;5;241;43m*\u001b[39;49m\u001b[38;5;28;43mself\u001b[39;49m\u001b[38;5;241;43m.\u001b[39;49m\u001b[43moptions\u001b[49m\u001b[43m)\u001b[49m\n\u001b[1;32m   1136\u001b[0m     \u001b[38;5;28;01melse\u001b[39;00m:\n\u001b[1;32m   1137\u001b[0m         \u001b[38;5;28;01mif\u001b[39;00m engine \u001b[38;5;241m==\u001b[39m \u001b[38;5;124m\"\u001b[39m\u001b[38;5;124mpython\u001b[39m\u001b[38;5;124m\"\u001b[39m:\n",
      "File \u001b[0;32m/usr/lib/python3/dist-packages/pandas/io/parsers.py:1917\u001b[0m, in \u001b[0;36mCParserWrapper.__init__\u001b[0;34m(self, src, **kwds)\u001b[0m\n\u001b[1;32m   1914\u001b[0m \u001b[38;5;28mself\u001b[39m\u001b[38;5;241m.\u001b[39musecols, \u001b[38;5;28mself\u001b[39m\u001b[38;5;241m.\u001b[39musecols_dtype \u001b[38;5;241m=\u001b[39m _validate_usecols_arg(kwds[\u001b[38;5;124m\"\u001b[39m\u001b[38;5;124musecols\u001b[39m\u001b[38;5;124m\"\u001b[39m])\n\u001b[1;32m   1915\u001b[0m kwds[\u001b[38;5;124m\"\u001b[39m\u001b[38;5;124musecols\u001b[39m\u001b[38;5;124m\"\u001b[39m] \u001b[38;5;241m=\u001b[39m \u001b[38;5;28mself\u001b[39m\u001b[38;5;241m.\u001b[39musecols\n\u001b[0;32m-> 1917\u001b[0m \u001b[38;5;28mself\u001b[39m\u001b[38;5;241m.\u001b[39m_reader \u001b[38;5;241m=\u001b[39m \u001b[43mparsers\u001b[49m\u001b[38;5;241;43m.\u001b[39;49m\u001b[43mTextReader\u001b[49m\u001b[43m(\u001b[49m\u001b[43msrc\u001b[49m\u001b[43m,\u001b[49m\u001b[43m \u001b[49m\u001b[38;5;241;43m*\u001b[39;49m\u001b[38;5;241;43m*\u001b[39;49m\u001b[43mkwds\u001b[49m\u001b[43m)\u001b[49m\n\u001b[1;32m   1918\u001b[0m \u001b[38;5;28mself\u001b[39m\u001b[38;5;241m.\u001b[39munnamed_cols \u001b[38;5;241m=\u001b[39m \u001b[38;5;28mself\u001b[39m\u001b[38;5;241m.\u001b[39m_reader\u001b[38;5;241m.\u001b[39munnamed_cols\n\u001b[1;32m   1920\u001b[0m passed_names \u001b[38;5;241m=\u001b[39m \u001b[38;5;28mself\u001b[39m\u001b[38;5;241m.\u001b[39mnames \u001b[38;5;129;01mis\u001b[39;00m \u001b[38;5;28;01mNone\u001b[39;00m\n",
      "File \u001b[0;32mpandas/_libs/parsers.pyx:382\u001b[0m, in \u001b[0;36mpandas._libs.parsers.TextReader.__cinit__\u001b[0;34m()\u001b[0m\n",
      "File \u001b[0;32mpandas/_libs/parsers.pyx:689\u001b[0m, in \u001b[0;36mpandas._libs.parsers.TextReader._setup_parser_source\u001b[0;34m()\u001b[0m\n",
      "\u001b[0;31mFileNotFoundError\u001b[0m: [Errno 2] File b'../data/age_run_1_00.csv' does not exist: b'../data/age_run_1_00.csv'"
     ]
    }
   ],
   "source": [
    "import pandas as pd\n",
    "import seaborn as sns\n",
    "import numpy as np\n",
    "import matplotlib.pyplot as plt\n",
    "\n",
    "graph_dat = pd.read_csv(\"../data/age_run_1_00.csv\")\n",
    "graph_dat = graph_dat.filter(items=[\"t\",\"age\",\"value\",\"vartype\"])\n",
    "D_dat = graph_dat[(graph_dat[\"vartype\"] == \"D\")] \n",
    "N_dat= graph_dat[(graph_dat[\"vartype\"] == \"N\")] \n",
    "S_dat= graph_dat[(graph_dat[\"vartype\"] == \"S\")] \n",
    "X_dat= graph_dat[(graph_dat[\"vartype\"] == \"Xsi1\")] \n",
    "N_dat = N_dat.rename({\"value\":\"N\"},axis=\"columns\")\n",
    "S_dat = S_dat.rename({\"value\":\"S\"},axis=\"columns\")\n",
    "X_dat = X_dat.rename({\"value\":\"Xsi\"},axis=\"columns\")\n",
    "N_dat = N_dat.drop(columns=\"vartype\")\n",
    "S_dat = S_dat.drop(columns=\"vartype\")\n",
    "print(N_dat)"
   ]
  },
  {
   "cell_type": "code",
   "execution_count": null,
   "id": "a9136d0e",
   "metadata": {},
   "outputs": [],
   "source": [
    "all_dat = N_dat.merge(S_dat,left_on=[\"t\",\"age\"],right_on=[\"t\",\"age\"])\n",
    "total_dat = all_dat.groupby([\"t\"]).sum()\n",
    "total_dat[\"Susceptible Ratio\"] = total_dat[\"S\"]/total_dat[\"N\"]\n",
    "sns.lineplot(data=total_dat,x=\"t\",y=\"Susceptible Ratio\")\n",
    "plt.title(\"Ageing, resetting age 0 to 10k\")"
   ]
  },
  {
   "cell_type": "code",
   "execution_count": null,
   "id": "6eae04c6",
   "metadata": {},
   "outputs": [],
   "source": [
    "rt_dat= graph_dat[(graph_dat[\"vartype\"] == \"Rt\")] \n",
    "rt_dat[\"year\"] = graph_dat[\"t\"]/365.0\n",
    "print(rt_dat)\n",
    "sns.lineplot(data=rt_dat,x=\"year\",y=\"value\")\n",
    "#plt.xticks([1,2,3,4,5,6,7,8,9,10,11,12,13,14,15,16,17,18,19,20])\n",
    "plt.title(\"Rt graph, ageing 10K\")\n",
    "#plt.ylim(0,5)"
   ]
  },
  {
   "cell_type": "code",
   "execution_count": null,
   "id": "007d727f",
   "metadata": {},
   "outputs": [],
   "source": [
    "#N_dat = graph_dat[(graph_dat[\"vartype\"] == \"N\")] \n",
    "N_dat[\"year\"] = (D_dat[\"t\"] % 20)\n",
    "summed_vals = N_dat.groupby(\"t\")[\"N\"].sum()\n",
    "print(summed_vals)\n",
    "summed_vals = list(summed_vals)\n",
    "plt.plot(summed_vals)\n",
    "#sns.lineplot(data=summed_vals,x=\"t\",y=\"value\")\n",
    "plt.title(\"Population graph, ageing 10K\")"
   ]
  },
  {
   "cell_type": "code",
   "execution_count": null,
   "id": "5efcdf50",
   "metadata": {},
   "outputs": [],
   "source": [
    "D_dat = graph_dat[(graph_dat[\"vartype\"] == \"D\")] \n",
    "D_dat[\"year\"] = (D_dat[\"t\"] % 20)\n",
    "summed_vals = D_dat.groupby(\"year\")[\"value\"].sum()\n",
    "summed_vals = list(summed_vals)\n",
    "plt.plot(summed_vals)\n",
    "#sns.lineplot(data=summed_vals,x=\"t\",y=\"value\")\n",
    "plt.title(\"Natural Mortality graph, ageing 10K\")"
   ]
  },
  {
   "cell_type": "code",
   "execution_count": null,
   "id": "261f1a96",
   "metadata": {},
   "outputs": [],
   "source": [
    "all_dat = N_dat.merge(S_dat,left_on=[\"t\",\"age\"],right_on=[\"t\",\"age\"])\n",
    "all_dat = all_dat[[\"t\",\"age\",\"S\"]]\n",
    "all_dat = all_dat[all_dat[\"age\"] == 0]\n",
    "all_dat[\"year_val\"] = all_dat[\"t\"] / 365\n",
    "#total_dat[\"year_val\"] = total_dat[\"t\"] % 365\n",
    "#total_dat[\"ratio\"] = total_dat[\"S\"]/total_dat[\"N\"]\n",
    "#total_dat[\"year\"] = pd.Series(range(1,20*365))\n",
    "#total_dat[\"year\"] = total_dat[\"year\"]/365 \n",
    "#print(total_dat[\"year\"])\n",
    "print(all_dat)\n",
    "ax = plt.axes()\n",
    "sns.lineplot(data=all_dat,x=\"year_val\",y=\"S\")\n",
    "plt.title(\"Age 0\")\n",
    "ax.set_xticks([0,1,2,3,4,5,6,7,8,9,10,11,12,13,14,15,16,17,18,19,20])"
   ]
  },
  {
   "cell_type": "code",
   "execution_count": null,
   "id": "325a3069",
   "metadata": {},
   "outputs": [],
   "source": [
    "\n",
    "all_dat = N_dat.merge(S_dat,left_on=[\"t\",\"age\"],right_on=[\"t\",\"age\"])\n",
    "all_dat = all_dat[all_dat[\"age\"] == 31]\n",
    "total_dat = all_dat.groupby([\"t\"]).sum()\n",
    "total_dat[\"ratio\"] = total_dat[\"S\"]/total_dat[\"N\"]\n",
    "sns.lineplot(data=total_dat,x=\"t\",y=\"N\")\n",
    "plt.title(\"Age 31, resetting age 0 to 10K\")\n",
    "\n",
    "# t,age,value,vartype\n",
    "# t,age,N,S"
   ]
  },
  {
   "cell_type": "code",
   "execution_count": null,
   "id": "2aee7300",
   "metadata": {},
   "outputs": [],
   "source": [
    "all_dat = N_dat.merge(S_dat,left_on=[\"t\",\"age\"],right_on=[\"t\",\"age\"])\n",
    "all_dat = all_dat[all_dat[\"age\"] == 16]\n",
    "total_dat = all_dat.groupby([\"t\"]).sum()\n",
    "total_dat[\"ratio\"] = total_dat[\"S\"]/total_dat[\"N\"]\n",
    "sns.lineplot(data=total_dat,x=\"t\",y=\"N\")\n",
    "plt.title(\"Age 16 Population Graph\")\n"
   ]
  },
  {
   "cell_type": "code",
   "execution_count": null,
   "id": "2a002f4f",
   "metadata": {},
   "outputs": [],
   "source": [
    "total_dat.tail()"
   ]
  },
  {
   "cell_type": "code",
   "execution_count": null,
   "id": "ef612ebd",
   "metadata": {},
   "outputs": [],
   "source": [
    "# births being 1million per year\n",
    "graph_dat = pd.read_csv(\"mod_birth.csv\")\n",
    "graph_dat = graph_dat.filter(items=[\"t\",\"age\",\"value\",\"vartype\"])\n",
    "N_dat= graph_dat[(graph_dat[\"vartype\"] == \"N\")] \n",
    "S_dat= graph_dat[(graph_dat[\"vartype\"] == \"S\")] \n",
    "N_dat = N_dat.rename({\"value\":\"N\"},axis=\"columns\")\n",
    "S_dat = S_dat.rename({\"value\":\"S\"},axis=\"columns\")\n",
    "N_dat = N_dat.drop(columns=\"vartype\")\n",
    "S_dat = S_dat.drop(columns=\"vartype\")\n",
    "#\n",
    "all_dat = N_dat.merge(S_dat,left_on=[\"t\",\"age\"],right_on=[\"t\",\"age\"])\n",
    "total_dat = all_dat.groupby([\"t\",\"age\"]).sum()\n",
    "total_dat[\"ratio\"] = total_dat[\"S\"]/total_dat[\"N\"]\n",
    "sns.lineplot(data=total_dat,x=\"t\",y=\"ratio\")\n",
    "plt.title(\"Ageing, resetting age 0 to 1 million\")\n",
    "\n",
    "# t,age,value,vartype\n",
    "# t,age,N,S"
   ]
  },
  {
   "cell_type": "code",
   "execution_count": null,
   "id": "a1ed4b02",
   "metadata": {},
   "outputs": [],
   "source": [
    "rt_dat= graph_dat[(graph_dat[\"vartype\"] == \"Rt\")] \n",
    "sns.lineplot(data=rt_dat,x=\"t\",y=\"value\")\n",
    "plt.title(\"Rt graph, ageing 1 million\")"
   ]
  },
  {
   "cell_type": "code",
   "execution_count": null,
   "id": "af86fabc",
   "metadata": {},
   "outputs": [],
   "source": [
    "D_dat = graph_dat[(graph_dat[\"vartype\"] == \"D\")] \n",
    "D_dat[\"year\"] = (D_dat[\"t\"] % 20)\n",
    "summed_vals = D_dat.groupby(\"year\")[\"value\"].sum()\n",
    "print(summed_vals)\n",
    "summed_vals = list(summed_vals)\n",
    "plt.plot(summed_vals)\n",
    "#sns.lineplot(data=summed_vals,x=\"t\",y=\"value\")\n",
    "plt.title(\"Nondampeend Natural Mortality graph, ageing 1 mil\")"
   ]
  },
  {
   "cell_type": "code",
   "execution_count": null,
   "id": "1b02e155",
   "metadata": {},
   "outputs": [],
   "source": [
    "all_dat = N_dat.merge(S_dat,left_on=[\"t\",\"age\"],right_on=[\"t\",\"age\"])\n",
    "all_dat = all_dat[all_dat[\"age\"] == 0]\n",
    "total_dat = all_dat.groupby([\"t\"]).sum()\n",
    "total_dat[\"ratio\"] = total_dat[\"S\"]/total_dat[\"N\"]\n",
    "sns.lineplot(data=total_dat,x=\"t\",y=\"ratio\")\n",
    "plt.title(\"Age 0, resetting age 0 to 1 million\")\n",
    "\n",
    "# t,age,value,vartype\n",
    "# t,age,N,S"
   ]
  },
  {
   "cell_type": "code",
   "execution_count": null,
   "id": "4e0fe25d",
   "metadata": {},
   "outputs": [],
   "source": [
    "all_dat = N_dat.merge(S_dat,left_on=[\"t\",\"age\"],right_on=[\"t\",\"age\"])\n",
    "all_dat = all_dat[all_dat[\"age\"] == 31]\n",
    "total_dat = all_dat.groupby([\"t\"]).sum()\n",
    "total_dat[\"ratio\"] = total_dat[\"S\"]/total_dat[\"N\"]\n",
    "sns.lineplot(data=total_dat,x=\"t\",y=\"ratio\")\n",
    "plt.title(\"Age 31, resetting age 0 to 1 million\")"
   ]
  },
  {
   "cell_type": "code",
   "execution_count": null,
   "id": "5d59d28b",
   "metadata": {},
   "outputs": [],
   "source": [
    "total_dat.tail()"
   ]
  }
 ],
 "metadata": {
  "kernelspec": {
   "display_name": "Python 3 (ipykernel)",
   "language": "python",
   "name": "python3"
  },
  "language_info": {
   "codemirror_mode": {
    "name": "ipython",
    "version": 3
   },
   "file_extension": ".py",
   "mimetype": "text/x-python",
   "name": "python",
   "nbconvert_exporter": "python",
   "pygments_lexer": "ipython3",
   "version": "3.8.10"
  },
  "vscode": {
   "interpreter": {
    "hash": "101a6ff7ecee390d2e1890350f9112fbc4081685c615de8bd7d4ce8ede852617"
   }
  }
 },
 "nbformat": 4,
 "nbformat_minor": 5
}
